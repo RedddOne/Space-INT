{
 "cells": [
  {
   "cell_type": "code",
   "execution_count": 5,
   "metadata": {},
   "outputs": [
    {
     "name": "stdout",
     "output_type": "stream",
     "text": [
      "                                 filename time_abs(%Y-%m-%dT%H:%M:%S.%f)  \\\n",
      "0  xa.s12.00.mhz.1970-01-19HR00_evid00002     1970-01-19T20:25:00.000000   \n",
      "1  xa.s12.00.mhz.1970-03-25HR00_evid00003     1970-03-25T03:32:00.000000   \n",
      "2  xa.s12.00.mhz.1970-03-26HR00_evid00004     1970-03-26T20:17:00.000000   \n",
      "3  xa.s12.00.mhz.1970-04-25HR00_evid00006     1970-04-25T01:14:00.000000   \n",
      "4  xa.s12.00.mhz.1970-04-26HR00_evid00007     1970-04-26T14:29:00.000000   \n",
      "\n",
      "   time_rel(sec)       evid    mq_type  \n",
      "0        73500.0  evid00002  impact_mq  \n",
      "1        12720.0  evid00003  impact_mq  \n",
      "2        73020.0  evid00004  impact_mq  \n",
      "3         4440.0  evid00006  impact_mq  \n",
      "4        52140.0  evid00007    deep_mq  \n",
      "<class 'pandas.core.frame.DataFrame'>\n",
      "RangeIndex: 76 entries, 0 to 75\n",
      "Data columns (total 5 columns):\n",
      " #   Column                          Non-Null Count  Dtype  \n",
      "---  ------                          --------------  -----  \n",
      " 0   filename                        76 non-null     object \n",
      " 1   time_abs(%Y-%m-%dT%H:%M:%S.%f)  76 non-null     object \n",
      " 2   time_rel(sec)                   76 non-null     float64\n",
      " 3   evid                            76 non-null     object \n",
      " 4   mq_type                         76 non-null     object \n",
      "dtypes: float64(1), object(4)\n",
      "memory usage: 3.1+ KB\n",
      "None\n",
      "filename                          0\n",
      "time_abs(%Y-%m-%dT%H:%M:%S.%f)    0\n",
      "time_rel(sec)                     0\n",
      "evid                              0\n",
      "mq_type                           0\n",
      "dtype: int64\n"
     ]
    }
   ],
   "source": [
    "import pandas as pd\n",
    "\n",
    "# Chargement du catalogue\n",
    "data = pd.read_csv('/Users/red1/Downloads/space_apps_2024_seismic_detection/data/lunar/training/catalogs/apollo12_catalog_GradeA_final.csv')\n",
    "print(data.head())\n",
    "print(data.info())\n",
    "# Vérification des valeurs manquantes\n",
    "print(data.isnull().sum())\n",
    "\n",
    "# Si nécessaire, vous pouvez supprimer ou remplir les valeurs manquantes\n",
    "data.dropna(inplace=True)  # ou utilisez data.fillna() selon le cas\n"
   ]
  }
 ],
 "metadata": {
  "kernelspec": {
   "display_name": "Python (myenv)",
   "language": "python",
   "name": "myenv"
  },
  "language_info": {
   "codemirror_mode": {
    "name": "ipython",
    "version": 3
   },
   "file_extension": ".py",
   "mimetype": "text/x-python",
   "name": "python",
   "nbconvert_exporter": "python",
   "pygments_lexer": "ipython3",
   "version": "3.11.5"
  }
 },
 "nbformat": 4,
 "nbformat_minor": 2
}
